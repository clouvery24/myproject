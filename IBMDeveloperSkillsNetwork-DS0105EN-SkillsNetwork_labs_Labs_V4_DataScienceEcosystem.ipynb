{
  "metadata": {
    "language_info": {
      "file_extension": ".py",
      "mimetype": "text/x-python",
      "name": "python",
      "version": "3.10.2"
    },
    "kernelspec": {
      "name": "xeus-python",
      "display_name": "Python (XPython)",
      "language": "python"
    }
  },
  "nbformat_minor": 4,
  "nbformat": 4,
  "cells": [
    {
      "cell_type": "markdown",
      "source": "# Data Science Tools and Ecosystem\nIn this notebook, Data Science Tools and Ecosystem are summarized.\n\n**Objectives:**\n*   List of popular languages for Data Scientists\n*   Commonly used libraries for Data Scientists\n*   Development environment open source tools used in data science\n*   Introducing arithmetic expression\n\nSome of the popular languages that Data Scientists use are:\n1. Python\n2. R\n3. Sql\n\nSome of the commonly used libraries used by Data Scientists include:\n1. Pandas\n2. Numpy\n3. Matplotlib\n4. Tensorflow\n5. Keras\n\n| Data Science Tools |\n|--------------------|\n|Jupyter Notebooks   |\n|Zeppelin Notebooks  |\n|RStudio             |\n\n### Below are a few examples of evaluating arithmetic expressions in Python\n",
      "metadata": {}
    },
    {
      "cell_type": "code",
      "source": "(3*4)+5\n# This a simple arithmetic expression to mutiply then add integers",
      "metadata": {
        "trusted": true
      },
      "execution_count": 28,
      "outputs": [
        {
          "execution_count": 28,
          "output_type": "execute_result",
          "data": {
            "text/plain": "17"
          },
          "metadata": {}
        }
      ]
    },
    {
      "cell_type": "code",
      "source": "# Program to Convert seconds into hours, minutes and seconds\n\n# This will convert 200 minutes to hours by diving by 60\ndef convert(minutes):\n    minutes = minutes % (24 * 60)\n    hour = minutes // 60\n    minutes %= 60\n    seconds = minutes // 60\n    minutes %= 60\n     \n    return \"%d:%02d:%02d\" % (hour, minutes, seconds)\n     \n# Driver program\nn = 200\nprint(convert(n))",
      "metadata": {
        "trusted": true
      },
      "execution_count": 29,
      "outputs": [
        {
          "name": "stdout",
          "text": "3:20:00\n",
          "output_type": "stream"
        }
      ]
    },
    {
      "cell_type": "markdown",
      "source": "## Author\nFaquita Almas Fitriyadi",
      "metadata": {}
    }
  ]
}